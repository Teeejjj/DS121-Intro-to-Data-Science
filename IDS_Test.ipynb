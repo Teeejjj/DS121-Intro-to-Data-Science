{
 "cells": [
  {
   "cell_type": "markdown",
   "id": "a26b1c18-aa9a-4ddb-9101-89d3c1b81549",
   "metadata": {},
   "source": [
    "# Import Necessary Packages"
   ]
  },
  {
   "cell_type": "code",
   "execution_count": null,
   "id": "51e9d1cc-3abc-441c-a96f-e7c02cb6cf6a",
   "metadata": {
    "scrolled": true
   },
   "outputs": [],
   "source": [
    "import pandas as pd\n",
    "import numpy as np\n",
    "import matplotlib.pyplot as plt\n",
    "import seaborn as sns\n",
    "from collections import Counter\n",
    "import warnings\n",
    "warnings.filterwarnings('ignore')\n",
    "pd.set_option('display.max_columns', None)"
   ]
  },
  {
   "cell_type": "markdown",
   "id": "bb0b46a0-17a4-4500-a54d-9d1219d0ab57",
   "metadata": {},
   "source": [
    "# Import your Data"
   ]
  },
  {
   "cell_type": "code",
   "execution_count": null,
   "id": "373b12c9-3e6a-4b07-a7b2-b0fe6eb5ca74",
   "metadata": {
    "scrolled": true
   },
   "outputs": [],
   "source": [
    "df = pd.read_csv('./Datasets/pokemonDB_dataset.csv')\n",
    "df = df[['Pokemon', 'Type', 'Height', 'Weight', 'Attack Base']]\n",
    "df"
   ]
  },
  {
   "cell_type": "code",
   "execution_count": null,
   "id": "f8608ffa-2844-48f6-b70e-1e777fed0ddc",
   "metadata": {},
   "outputs": [],
   "source": [
    "df.info()"
   ]
  },
  {
   "cell_type": "markdown",
   "id": "55bbf2a4-e502-4a6d-a874-4ce02c9d03ff",
   "metadata": {
    "scrolled": true
   },
   "source": [
    "# Let's clean up the Height and Weight column!"
   ]
  },
  {
   "cell_type": "code",
   "execution_count": null,
   "id": "16ab8bac-89dc-482f-a22d-82f41632bf0f",
   "metadata": {
    "scrolled": true
   },
   "outputs": [],
   "source": [
    "df_hw = df.copy(deep=True) # ---Create a copy of your Dataframe--- #\n",
    "\n",
    "df_hw['Height'] = df_hw['Height'].apply(lambda height: height.split(' m')[0])\n",
    "df_hw['Weight'] = df_hw['Weight'].apply(lambda weight: weight.split(' kg')[0])\n",
    "\n",
    "df_hw.rename(columns={'Height': 'Height (m)', 'Weight':'Weight (kg)'}, inplace=True)\n",
    "df_hw['Height (m)'] = df_hw['Height (m)'].astype('float64')\n",
    "\n",
    "# Now, youd think converting the column Weight to float would work\n",
    "# df_hw['Height (m)'] = df_hw['Height (m)'].astype('float64')\n",
    "\n",
    "# Right way, somehow\n",
    "df_hw['Weight (kg)'] = pd.to_numeric(df_hw['Weight (kg)'], errors='coerce') ## -- This also replaces '—' to NaN\n",
    "\n",
    "display(df_hw.info(), df_hw)"
   ]
  },
  {
   "cell_type": "code",
   "execution_count": null,
   "id": "ebc0ab7e-ebd7-4e5e-9c4a-430f39a01658",
   "metadata": {
    "scrolled": true
   },
   "outputs": [],
   "source": [
    "# Search for the error\n",
    "# df_hw[df_hw['Weight (kg)']=='—'] "
   ]
  },
  {
   "cell_type": "markdown",
   "id": "e60e0707-eef7-401a-a99c-9afc3446ffbb",
   "metadata": {},
   "source": [
    "# How many total Types are there for a pokemon?"
   ]
  },
  {
   "cell_type": "code",
   "execution_count": null,
   "id": "1fc12dfe-df65-4e76-b750-861c9234b97a",
   "metadata": {},
   "outputs": [],
   "source": [
    "df_type = df_hw.copy(deep=True) # Copy new dataframe\n",
    "\n",
    "df_type['Type_count'] = df_type['Type'].str.count(',') + 1\n",
    "df_type['Type_count'].max()"
   ]
  },
  {
   "cell_type": "code",
   "execution_count": null,
   "id": "3deed7e0-3652-4068-b4e7-1d28f2a02bb4",
   "metadata": {
    "scrolled": true
   },
   "outputs": [],
   "source": [
    "df_type['Type'] = df_type['Type'].apply(lambda x : x.strip().split(','))\n",
    "df_type['Type1'] = df_type['Type'].apply(lambda typ: typ[0])\n",
    "df_type['Type2'] = df_type['Type'].apply(lambda typ: typ[1] if len(typ) > 1 else None)\n",
    "\n",
    "df_type = df_type[['Pokemon', 'Type1', 'Type2', 'Height (m)', 'Weight (kg)', 'Attack Base']]\n",
    "df_type"
   ]
  },
  {
   "cell_type": "markdown",
   "id": "d19049fe-970a-4ca3-b679-380187c827fb",
   "metadata": {},
   "source": [
    "# Data Summary"
   ]
  },
  {
   "cell_type": "code",
   "execution_count": null,
   "id": "dda0774d-279d-46d1-a682-a2dedf58ea8c",
   "metadata": {},
   "outputs": [],
   "source": [
    "df_type.shape"
   ]
  },
  {
   "cell_type": "markdown",
   "id": "7200d279-a8a5-41d1-8138-e176f06f72e7",
   "metadata": {},
   "source": [
    "## Mean, Median, Mode?"
   ]
  },
  {
   "cell_type": "code",
   "execution_count": null,
   "id": "f3c32861-8fe4-42fc-bc5a-c1b7911e5ea0",
   "metadata": {},
   "outputs": [],
   "source": [
    "df_type"
   ]
  },
  {
   "cell_type": "code",
   "execution_count": null,
   "id": "f68ab1d5-341d-4b7f-9eed-7dd4af37ce75",
   "metadata": {},
   "outputs": [],
   "source": [
    "\"\"\"Mean for column Height\"\"\"\n",
    "\n",
    "df_type['Height (m)'].mean()  ## or you can also use numpy\n",
    "# np.mean(df_type['Height (m)'])"
   ]
  },
  {
   "cell_type": "code",
   "execution_count": null,
   "id": "43ffaa4e-407a-4520-957a-eecb445ca75e",
   "metadata": {},
   "outputs": [],
   "source": [
    "\"\"\"Median for column Weight\"\"\"\n",
    "\n",
    "# df_type['Weight (kg)'].median()\n",
    "\n",
    "# np.median(df_type['Weight (kg)']) ## Why wont this work?\n",
    "np.nanmedian(df_type['Weight (kg)'])"
   ]
  },
  {
   "cell_type": "code",
   "execution_count": null,
   "id": "446a53c1-9641-49e2-8460-0e70bb7bba14",
   "metadata": {},
   "outputs": [],
   "source": [
    "\"\"\"Mode, Mode, Mode\"\"\"\n",
    "\n",
    "df_type['Type1'].mode()"
   ]
  },
  {
   "cell_type": "code",
   "execution_count": null,
   "id": "3749f565-cae5-4a43-8d90-4c5124adda1e",
   "metadata": {
    "scrolled": true
   },
   "outputs": [],
   "source": [
    "df_type['Type1'].value_counts()"
   ]
  },
  {
   "cell_type": "markdown",
   "id": "49942c88-94f9-473e-8289-158776a478c9",
   "metadata": {},
   "source": [
    "## Or use df.describe()"
   ]
  },
  {
   "cell_type": "code",
   "execution_count": null,
   "id": "c3788549-9b33-450f-a789-f3f741098a1b",
   "metadata": {},
   "outputs": [],
   "source": [
    "df_type.describe()"
   ]
  },
  {
   "cell_type": "markdown",
   "id": "c556c7b3-da8f-4b74-9b4d-8432afa05493",
   "metadata": {},
   "source": [
    "# Visualize!"
   ]
  },
  {
   "cell_type": "markdown",
   "id": "4f8c6904-4a5b-4ca4-985a-42233b2806b4",
   "metadata": {},
   "source": [
    "## Bar Graph\n",
    "### Using a Countplot"
   ]
  },
  {
   "cell_type": "code",
   "execution_count": null,
   "id": "89726523-3ca9-4f6e-9307-19178dc6d58e",
   "metadata": {},
   "outputs": [],
   "source": [
    "plt.figure(figsize=(8.5,5))\n",
    "\n",
    "sns.countplot(x = df_type['Type1'])\n",
    "plt.xticks(rotation=60)\n",
    "plt.title('Count of Pokemon Types (Type 1)')\n",
    "plt.show()"
   ]
  },
  {
   "cell_type": "code",
   "execution_count": null,
   "id": "f683d43e-7e32-46a7-8f39-7e1955709b01",
   "metadata": {},
   "outputs": [],
   "source": [
    "type_colors = {\n",
    "    'Grass': '#A8C256',\n",
    "    'Psychic': '#C52184',\n",
    "    'Dark': '#334139',\n",
    "    'Bug': '#AFC97E',\n",
    "    'Steel': '#E6DBD0',\n",
    "    'Rock': '#503B31',\n",
    "    'Normal': '#DCE1E9',\n",
    "    'Fairy': '#F4AFB4',\n",
    "    'Water': '#3066BE',\n",
    "    'Dragon': '#28C2FF',\n",
    "    'Electric':'#F7E9A1',\n",
    "    'Fighting':'#9C1715',\n",
    "    'Poison':'#B388EB',\n",
    "    'Fire':'#D36135',\n",
    "    'Ice':'#ABDDED',\n",
    "    'Ground':'#FFAF47',\n",
    "    'Ghost':'#BF9ACA',\n",
    "    'Flying':'#F6F5F3'\n",
    "}\n",
    "type_order = df_type['Type1'].unique()\n",
    "type_pallete = [type_colors.get(t) for t in type_order]\n",
    "\n",
    "plt.figure(figsize=(13.5,5))\n",
    "\n",
    "plt.grid(axis='y', linestyle='--', alpha = 1)\n",
    "ax = sns.countplot(x = df_type['Type1'], order=type_order, palette=type_pallete)\n",
    "for bar in ax.patches:\n",
    "    height = bar.get_height()\n",
    "    plt.text(bar.get_x() + bar.get_width()/2., height,\n",
    "             f'{height:,.0f}',\n",
    "             ha='center', va='bottom', fontsize=8)\n",
    "plt.xticks(rotation=60)\n",
    "plt.title('Count of Pokemon Types (Type 1)')\n",
    "plt.show()"
   ]
  },
  {
   "cell_type": "markdown",
   "id": "bbbef305-f518-49f4-9971-357c5329d18c",
   "metadata": {},
   "source": [
    "## Heatmap"
   ]
  },
  {
   "cell_type": "code",
   "execution_count": null,
   "id": "e8f66b99-a4b7-4988-af4f-c719a94e3f45",
   "metadata": {},
   "outputs": [],
   "source": [
    "cross_tab = pd.crosstab(df_type['Type1'], df_type['Type2'])\n",
    "\n",
    "# Plot heatmap\n",
    "plt.figure(figsize=(12, 8))\n",
    "sns.heatmap(cross_tab, cmap='Reds', annot=True, fmt='d', linewidths=0.5)\n",
    "plt.title('Co-occurrence of Pokémon Types (Type1 vs. Type2)')\n",
    "plt.xlabel('Type2')\n",
    "plt.ylabel('Type1')\n",
    "plt.show()"
   ]
  },
  {
   "cell_type": "code",
   "execution_count": null,
   "id": "4cf1a8b0-7cf7-4cd7-a6a8-ad20f0055a25",
   "metadata": {},
   "outputs": [],
   "source": [
    "# Lets Find them!\n",
    "df_type[(df_type['Type1'].str.contains('Bug')) & (df_type['Type2'].str.contains('Dark'))]"
   ]
  },
  {
   "cell_type": "markdown",
   "id": "c9921ad0-fb7e-49e6-879f-fa641f62eccc",
   "metadata": {},
   "source": [
    "## Scatter Plot"
   ]
  },
  {
   "cell_type": "code",
   "execution_count": null,
   "id": "b4bd99c1-6829-4302-8e1c-5df072e71347",
   "metadata": {},
   "outputs": [],
   "source": [
    "plt.figure(figsize=(8, 6))\n",
    "sns.scatterplot(x='Weight (kg)', y='Height (m)', data=df_type, alpha=0.6)\n",
    "plt.title('Height vs. Weight of Pokémon')\n",
    "plt.xlabel('Pokemon Weight (kg)')\n",
    "plt.ylabel('Pokemon Height (m)')\n",
    "\n",
    "# # Add a regression line\n",
    "# sns.regplot(x='Weight (kg)', y='Height (m)', data=df_type, scatter=False, color='red')\n",
    "plt.show()"
   ]
  },
  {
   "cell_type": "markdown",
   "id": "3a86c318-65bb-4a5d-94e9-bdc98f0cb4a6",
   "metadata": {},
   "source": [
    "## Most Powerful Pokemons?"
   ]
  },
  {
   "cell_type": "code",
   "execution_count": null,
   "id": "99d39154-d802-44aa-8d71-88dcb6fff2e2",
   "metadata": {
    "scrolled": true
   },
   "outputs": [],
   "source": [
    "df_att = dict(zip(df_type['Pokemon'], df_type['Attack Base']))\n",
    "top20 = Counter(df_att).most_common(20)\n",
    "top20"
   ]
  },
  {
   "cell_type": "markdown",
   "id": "bd9e16f8-226e-4828-8d58-5bac68dcf38b",
   "metadata": {},
   "source": [
    "Here are the top 20 Strongest Pokemon"
   ]
  },
  {
   "cell_type": "code",
   "execution_count": null,
   "id": "5542592c-bbc9-4323-a48f-783e9ce53098",
   "metadata": {},
   "outputs": [],
   "source": [
    "top20_keys = [item[0] for item in top20]\n",
    "top20_colors = ['red' if key in top20_keys else 'gray' for key in df_att.keys()]\n",
    "\n",
    "plt.bar(df_att.keys(), df_att.values(), color = top20_colors)\n",
    "plt.xlabel('Pokemons')\n",
    "plt.ylabel('Attack (Base)')\n",
    "plt.title('Base Attack per Pokemon')"
   ]
  },
  {
   "cell_type": "markdown",
   "id": "9e5062ba-372d-4143-927d-04fb4f4ebca6",
   "metadata": {},
   "source": [
    "This right here? Ugly."
   ]
  },
  {
   "cell_type": "code",
   "execution_count": null,
   "id": "7015196c-cdd7-4c5a-b4fc-3643569ce52e",
   "metadata": {},
   "outputs": [],
   "source": [
    "top20_attack = df_type.sort_values('Attack Base', ascending=False).head(20)\n",
    "plt.figure(figsize=(12,8))\n",
    "bar = sns.barplot(\n",
    "    x='Attack Base',\n",
    "    y='Pokemon',\n",
    "    data=top20_attack,\n",
    "    palette='viridis',\n",
    "    edgecolor='black'\n",
    ")\n",
    "\n",
    "for p in bar.patches:\n",
    "    width = p.get_width()\n",
    "    plt.text(\n",
    "        width +2, \n",
    "        p.get_y() + p.get_height() / 2, \n",
    "        f'{int(width)}',\n",
    "        ha = 'left',\n",
    "        va = 'center',\n",
    "        fontsize = 10\n",
    "    )\n",
    "\n",
    "plt.title('Top 20 Strongest Pokemon by Base Attack', fontsize=10, weight='bold')\n",
    "plt.xlabel('Base Attack')\n",
    "plt.ylabel('Pokemon')\n",
    "plt.grid(axis='x', linestyle = '--', alpha=0.1)\n",
    "\n",
    "plt.tight_layout()\n",
    "plt.show()"
   ]
  },
  {
   "cell_type": "code",
   "execution_count": null,
   "id": "4dda0ac4-c361-4539-8f04-6204cb696db3",
   "metadata": {},
   "outputs": [],
   "source": []
  }
 ],
 "metadata": {
  "kernelspec": {
   "display_name": "Python 3 (ipykernel)",
   "language": "python",
   "name": "python3"
  },
  "language_info": {
   "codemirror_mode": {
    "name": "ipython",
    "version": 3
   },
   "file_extension": ".py",
   "mimetype": "text/x-python",
   "name": "python",
   "nbconvert_exporter": "python",
   "pygments_lexer": "ipython3",
   "version": "3.12.3"
  },
  "widgets": {
   "application/vnd.jupyter.widget-state+json": {
    "state": {},
    "version_major": 2,
    "version_minor": 0
   }
  }
 },
 "nbformat": 4,
 "nbformat_minor": 5
}
