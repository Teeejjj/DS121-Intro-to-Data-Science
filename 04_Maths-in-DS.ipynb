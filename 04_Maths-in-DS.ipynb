{
 "cells": [
  {
   "cell_type": "markdown",
   "id": "a984c977-ac9b-4027-b09d-6a417506df25",
   "metadata": {},
   "source": [
    "# **Maths in DS [Stat Inference and Basic Prob]**\n",
    "\n",
    "**Instructors:** Jhun Brian M. Andam | Timothy Jonah E. Borromeo\n",
    "\n",
    "**Course:** Introduction to Data Science\n",
    "\n",
    "**Objectives:**\n",
    "\n",
    "- Understand the necessary requirements for a data science task.\n",
    "- Utilize and demonstrate the various data science tools."
   ]
  },
  {
   "cell_type": "markdown",
   "id": "523fcff3-e58d-4923-a8a3-01c3b0cf4cda",
   "metadata": {},
   "source": [
    "**Statistical inference** is the process of using data analysis to infer properties of an underlying probability distribution. Inferential statistical analysis infers properties of a population, for example by testing hypotheses and deriving estimates. It is assumed that the observed data set is sampled from a larger population.\n",
    "\n",
    "<u>Statistical inference makes propositions about a population</u>, using data drawn from the population with some form of sampling. Given a hypothesis about a population, for which we wish to draw inferences, statistical inference consists of (first) selecting a statistical model of the process that generates the data and (second) deducing propositions from the model."
   ]
  },
  {
   "cell_type": "markdown",
   "id": "d38adf31-8f51-42f9-a65f-b1e4710468dc",
   "metadata": {},
   "source": [
    "### **Key Concepts in Statistical Inference:**\n",
    "\n",
    "**1. Population vs. Sample**\n",
    "\n",
    "A population includes all individuals or data points relevant to a study, while a sample is a subset of that population selected for analysis. Since studying an entire population is often impractical, researchers use samples to draw conclusions about the population.\n",
    "\n",
    "<center><img src=\"https://www.scribbr.com/wp-content/uploads/2019/09/population-vs-sample-1.png\" width=\"300px\"></center>"
   ]
  },
  {
   "cell_type": "markdown",
   "id": "758af92f-44d8-4d91-bdee-8f64bc03ced0",
   "metadata": {},
   "source": [
    "*Understanding the Decline of Route-1 (R1) Jeepneys in Cagayan de Oro: An Exploratory Study on Contributing Factors*"
   ]
  },
  {
   "cell_type": "markdown",
   "id": "abd324ed-b6f5-4f87-af9e-e56f156e118d",
   "metadata": {
    "jupyter": {
     "source_hidden": true
    }
   },
   "source": [
    "**Potential Variables to Explore**\n",
    "\n",
    "1. Route Length & Travel Time – Is R1 too long or time-consuming compared to other routes?\n",
    "2. Profitability – Are R1 drivers earning less due to fewer passengers, longer routes, or higher expenses?\n",
    "3. Operational Costs – Are fuel prices, maintenance costs, or boundary fees discouraging R1 drivers?\n",
    "4. Passenger Demand – Have commuters shifted to alternative transport modes (e.g., modern jeepneys, tricycles, or ride-hailing services)?\n",
    "5. Traffic & Road Conditions – Are road congestion, rerouting policies, or construction projects making R1 less viable?\n",
    "6. Government Policies & Modernization – Has the PUV modernization program affected R1 jeepney numbers?"
   ]
  },
  {
   "cell_type": "markdown",
   "id": "bddce786-62f2-4498-a384-475568d870cb",
   "metadata": {},
   "source": [
    "**2. Parameter vs. Statistic**\n",
    "\n",
    "A parameter is a numerical summary that describes a characteristic of an entire population, such as the mean or standard deviation. A statistic, on the other hand, is a numerical summary computed from a sample and used to estimate the corresponding population parameter."
   ]
  },
  {
   "cell_type": "code",
   "execution_count": 1,
   "id": "598d2609-4405-4116-9a74-8070d129b22a",
   "metadata": {
    "execution": {
     "iopub.execute_input": "2025-03-29T01:52:11.129027Z",
     "iopub.status.busy": "2025-03-29T01:52:11.129027Z",
     "iopub.status.idle": "2025-03-29T01:52:33.639795Z",
     "shell.execute_reply": "2025-03-29T01:52:33.639795Z",
     "shell.execute_reply.started": "2025-03-29T01:52:11.129027Z"
    }
   },
   "outputs": [],
   "source": [
    "import pandas as pd\n",
    "import seaborn as sns\n",
    "import matplotlib.pyplot as plt\n",
    "import scipy.stats as stats\n",
    "import numpy as np"
   ]
  },
  {
   "cell_type": "code",
   "execution_count": 3,
   "id": "a559ba73-d4e6-4a54-a167-9183335fd51a",
   "metadata": {
    "execution": {
     "iopub.execute_input": "2025-03-29T01:56:16.820067Z",
     "iopub.status.busy": "2025-03-29T01:56:16.820067Z",
     "iopub.status.idle": "2025-03-29T01:56:42.573936Z",
     "shell.execute_reply": "2025-03-29T01:56:42.573936Z",
     "shell.execute_reply.started": "2025-03-29T01:56:16.820067Z"
    },
    "scrolled": true
   },
   "outputs": [
    {
     "name": "stdout",
     "output_type": "stream",
     "text": [
      "3.428\n",
      "3.436666666666667\n"
     ]
    }
   ],
   "source": [
    "df = sns.load_dataset('iris')\n",
    "setosa_pop = df[df['species'] == 'setosa']\n",
    "setosa_sam = setosa_pop.sample(n=30, random_state=42)\n",
    "\n",
    "# population mean [parameter]\n",
    "print(setosa_pop['sepal_width'].mean())\n",
    "\n",
    "# sample mean [statistic]\n",
    "print(setosa_sam['sepal_width'].mean())"
   ]
  },
  {
   "cell_type": "markdown",
   "id": "60a95198-31ab-451b-95be-14ea8f28e1b3",
   "metadata": {},
   "source": [
    "**3. Point Estimation vs. Interval Estimation**\n",
    "\n",
    "Point estimation provides a single best guess of a population parameter (e.g., using a sample mean to estimate the population mean). Interval estimation, such as confidence intervals, provides a range of values within which the parameter is likely to fall, incorporating a margin of error."
   ]
  },
  {
   "cell_type": "code",
   "execution_count": 4,
   "id": "30ae9542-5531-47c8-9198-29b582cc60b7",
   "metadata": {
    "execution": {
     "iopub.execute_input": "2025-03-29T01:57:04.401380Z",
     "iopub.status.busy": "2025-03-29T01:57:04.401380Z",
     "iopub.status.idle": "2025-03-29T01:57:04.461555Z",
     "shell.execute_reply": "2025-03-29T01:57:04.461555Z",
     "shell.execute_reply.started": "2025-03-29T01:57:04.401380Z"
    }
   },
   "outputs": [
    {
     "name": "stdout",
     "output_type": "stream",
     "text": [
      "Point Estimate (Mean): 5.843333333333334\n"
     ]
    }
   ],
   "source": [
    "# Compute the sample mean [point estimate]\n",
    "sepal_length = df['sepal_length']\n",
    "point_estimate = np.mean(sepal_length)\n",
    "print(\"Point Estimate (Mean):\", point_estimate)"
   ]
  },
  {
   "cell_type": "code",
   "execution_count": 5,
   "id": "58543a58-6146-4c81-a3b8-3c963869aa30",
   "metadata": {
    "execution": {
     "iopub.execute_input": "2025-03-29T01:57:39.730813Z",
     "iopub.status.busy": "2025-03-29T01:57:39.715200Z",
     "iopub.status.idle": "2025-03-29T01:57:39.848765Z",
     "shell.execute_reply": "2025-03-29T01:57:39.848765Z",
     "shell.execute_reply.started": "2025-03-29T01:57:39.730813Z"
    }
   },
   "outputs": [
    {
     "name": "stdout",
     "output_type": "stream",
     "text": [
      "95% Confidence Interval: (5.71, 5.98)\n"
     ]
    }
   ],
   "source": [
    "# Compute the 95% confidence interval for the mean\n",
    "confidence_level = 0.95\n",
    "n = len(sepal_length)\n",
    "sample_std = np.std(sepal_length, ddof=1)  # Sample standard deviation\n",
    "standard_error = sample_std / np.sqrt(n)\n",
    "\n",
    "# Compute the margin of error using the t-distribution\n",
    "t_critical = stats.t.ppf((1 + confidence_level) / 2, df=n-1)\n",
    "margin_of_error = t_critical * standard_error\n",
    "\n",
    "# Compute confidence interval\n",
    "lower_bound = point_estimate - margin_of_error\n",
    "upper_bound = point_estimate + margin_of_error\n",
    "\n",
    "print(f\"95% Confidence Interval: ({lower_bound:.2f}, {upper_bound:.2f})\")"
   ]
  },
  {
   "cell_type": "markdown",
   "id": "d09d8e8c-36e9-4d89-8234-0145ae6ec635",
   "metadata": {},
   "source": [
    "**4. Hypothesis Testing**\n",
    "\n",
    "Hypothesis testing is a statistical method used to determine whether there is enough evidence to support a specific claim about a population parameter. It involves setting up a null hypothesis (H₀), an alternative hypothesis (H₁), and using sample data to decide whether to reject H₀ in favor of H₁."
   ]
  },
  {
   "cell_type": "markdown",
   "id": "32629923-cbe8-415e-88a7-36aa5c369c38",
   "metadata": {},
   "source": [
    "- Null Hypothesis ($H_0$): The mean sepal length is the same across all species.\n",
    "- Alternative Hypothesis ($H_1$): At least one species has a significantly different mean sepal length."
   ]
  },
  {
   "cell_type": "code",
   "execution_count": 6,
   "id": "99462e8b-7aa7-4ccd-8423-52765ba6131d",
   "metadata": {
    "execution": {
     "iopub.execute_input": "2025-03-29T01:57:57.236397Z",
     "iopub.status.busy": "2025-03-29T01:57:57.220774Z",
     "iopub.status.idle": "2025-03-29T01:57:57.333146Z",
     "shell.execute_reply": "2025-03-29T01:57:57.333146Z",
     "shell.execute_reply.started": "2025-03-29T01:57:57.236397Z"
    }
   },
   "outputs": [
    {
     "name": "stdout",
     "output_type": "stream",
     "text": [
      "F-statistic: 119.2645\n",
      "P-value: 0.0000\n"
     ]
    }
   ],
   "source": [
    "setosa = df[df['species'] == 'setosa']['sepal_length']\n",
    "versicolor = df[df['species'] == 'versicolor']['sepal_length']\n",
    "virginica = df[df['species'] == 'virginica']['sepal_length']\n",
    "\n",
    "# One-way ANOVA\n",
    "f_stat, p_value = stats.f_oneway(setosa, versicolor, virginica)\n",
    "\n",
    "# Output results\n",
    "print(f'F-statistic: {f_stat:.4f}')\n",
    "print(f'P-value: {p_value:.4f}')"
   ]
  },
  {
   "cell_type": "code",
   "execution_count": 7,
   "id": "e5f02b39-cdf7-453d-a4d6-c7c422c2b630",
   "metadata": {
    "execution": {
     "iopub.execute_input": "2025-03-29T01:58:05.122725Z",
     "iopub.status.busy": "2025-03-29T01:58:05.122725Z",
     "iopub.status.idle": "2025-03-29T01:58:05.307056Z",
     "shell.execute_reply": "2025-03-29T01:58:05.291411Z",
     "shell.execute_reply.started": "2025-03-29T01:58:05.122725Z"
    }
   },
   "outputs": [
    {
     "ename": "ModuleNotFoundError",
     "evalue": "No module named 'statsmodels'",
     "output_type": "error",
     "traceback": [
      "\u001b[1;31m---------------------------------------------------------------------------\u001b[0m",
      "\u001b[1;31mModuleNotFoundError\u001b[0m                       Traceback (most recent call last)",
      "Cell \u001b[1;32mIn[7], line 1\u001b[0m\n\u001b[1;32m----> 1\u001b[0m \u001b[38;5;28;01mfrom\u001b[39;00m \u001b[38;5;21;01mstatsmodels\u001b[39;00m\u001b[38;5;21;01m.\u001b[39;00m\u001b[38;5;21;01mstats\u001b[39;00m\u001b[38;5;21;01m.\u001b[39;00m\u001b[38;5;21;01mmulticomp\u001b[39;00m \u001b[38;5;28;01mimport\u001b[39;00m pairwise_tukeyhsd\n\u001b[0;32m      3\u001b[0m \u001b[38;5;66;03m# Perform Tukey's HSD test\u001b[39;00m\n\u001b[0;32m      4\u001b[0m tukey_result \u001b[38;5;241m=\u001b[39m pairwise_tukeyhsd(df[\u001b[38;5;124m'\u001b[39m\u001b[38;5;124msepal_length\u001b[39m\u001b[38;5;124m'\u001b[39m], df[\u001b[38;5;124m'\u001b[39m\u001b[38;5;124mspecies\u001b[39m\u001b[38;5;124m'\u001b[39m])\n",
      "\u001b[1;31mModuleNotFoundError\u001b[0m: No module named 'statsmodels'"
     ]
    }
   ],
   "source": [
    "from statsmodels.stats.multicomp import pairwise_tukeyhsd\n",
    "\n",
    "# Perform Tukey's HSD test\n",
    "tukey_result = pairwise_tukeyhsd(df['sepal_length'], df['species'])\n",
    "\n",
    "# Display results\n",
    "print(tukey_result)"
   ]
  },
  {
   "cell_type": "code",
   "execution_count": null,
   "id": "98a86e2c-97b9-4970-9bb9-7b3baf0e2986",
   "metadata": {},
   "outputs": [],
   "source": [
    "1+1"
   ]
  }
 ],
 "metadata": {
  "kernelspec": {
   "display_name": "Python 3 (ipykernel)",
   "language": "python",
   "name": "python3"
  },
  "language_info": {
   "codemirror_mode": {
    "name": "ipython",
    "version": 3
   },
   "file_extension": ".py",
   "mimetype": "text/x-python",
   "name": "python",
   "nbconvert_exporter": "python",
   "pygments_lexer": "ipython3",
   "version": "3.11.9"
  },
  "widgets": {
   "application/vnd.jupyter.widget-state+json": {
    "state": {},
    "version_major": 2,
    "version_minor": 0
   }
  }
 },
 "nbformat": 4,
 "nbformat_minor": 5
}
