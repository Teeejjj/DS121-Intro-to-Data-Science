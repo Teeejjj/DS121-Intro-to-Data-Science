{
 "cells": [
  {
   "cell_type": "markdown",
   "id": "37565a48-fcfd-4d5b-a3df-0aae2c60cdb2",
   "metadata": {},
   "source": [
    "# **Introduction to Data Science**\n",
    "\n",
    "**Instructors:** Timothy Jonah E. Borromeo\n",
    "\n",
    "**Course:** Introduction to Data Science\n",
    "\n",
    "**Objectives**\n",
    "\n",
    "- Acquire foundational knowledge on the inner workings and history of Data Science."
   ]
  },
  {
   "cell_type": "markdown",
   "id": "fd7e4b71-7ad4-4108-a6a9-4beccaadf881",
   "metadata": {},
   "source": [
    "### **Data Science**"
   ]
  },
  {
   "cell_type": "markdown",
   "id": "3b6fbbf3-6b35-49a1-9556-4303a58db9d6",
   "metadata": {
    "jp-MarkdownHeadingCollapsed": true
   },
   "source": [
    "The term \"data science\" has gained widespread popularity over the past decade, becoming one of the most sought-after career fields and areas of academic research. However, despite its significance, \"data science\" is still considered by many to be a buzzword due to its ambiguous definition and its tendency to be used as a catch-all term for various data-related disciplines.\n",
    "\n",
    "> There is still no consensus on the definition of data science, and it is considered by some to be a buzzword. Big data is a related marketing term. Data scientists are responsible for breaking down big data into usable information and creating software and algorithms that help companies and organizations determine optimal operations.\n",
    "\n",
    "- It is a concept that **unifies statistics, data analysis, informatics, and related methods** for understanding phenomena through data (Hayashi, 1998).\n",
    "- Jim Gray described it as a **fourth paradigm** of science, emphasizing the shift towards data-driven approaches (Hey, Tansley, & Tolle, 2009; Bell, Hey, & Szalay, 2009).\n",
    "- Nathan Yau and Ben Fry associate data science with **human-computer interaction**, focusing on intuitive data exploration (Yau, 2009; Fry, n.d.)."
   ]
  },
  {
   "cell_type": "markdown",
   "id": "121e9a44-05f1-4e50-b08c-0dc14915061d",
   "metadata": {},
   "source": [
    "<center><img src=\"https://thomaselove.github.io/431notes-2017/figures/data-science-venn20.png\" width=\"500px\"></center>\n",
    "\n",
    "\n",
    "The field encompasses ideas from mathematics and statistics and from computer science, but with a heavy reliance on subject-matter knowledge. In our case, this includes clinical, health-related, medical or biological knowledge.\n",
    "\n",
    "Data science is often called a **unicorn** because it requires a rare blend of interdisciplinary expertise, combining skills in mathematics, statistics, programming, and domain knowledge, along with business acumen and communication. Data scientists are valued for their ability to solve complex problems, extract insights from messy data, and create innovative solutions, making them highly sought-after but scarce in the job market. Their work has a significant impact, driving decision-making and innovation across industries, which further underscores their unique and transformative role.\n",
    "\n",
    "Data Science is a team activity. Everyone working in data science brings some part of the necessary skillset, but no one person can cover all three areas alone for excellent projects.\n",
    "\n",
    "> [The individual who is truly expert in all three key areas (mathematics/statistics, computer science and subject-matter knowledge) is] a mythical beast with magical powers who’s rumored to exist but is never actually seen in the wild."
   ]
  },
  {
   "cell_type": "markdown",
   "id": "2265b5af-3995-4e1b-910e-c5a60511e0be",
   "metadata": {},
   "source": [
    "### **The Growing Datasphere and the Critical Role of Data Science**"
   ]
  },
  {
   "cell_type": "markdown",
   "id": "aade59a2-d039-44aa-9a84-2ab21f5c031f",
   "metadata": {},
   "source": [
    "<center><img src=\"https://cdn-ikpjohn.nitrocdn.com/DfwgkHLwYlwOPFzEQocOyyqUcjXgQwkl/assets/images/optimized/rev-105a097/www.i-scoop.eu/wp-content/uploads/2019/06/Data-age-the-global-datasphere-trends-and-data-readiness-from-edge-to-core-growing-to-175-zettabytes-in-2025-3.gif\" width=\"500px\"></center>\n",
    "\n",
    "The global datasphere is expanding at an unprecedented rate, with projections estimating an increase from 33 zettabytes in 2018 to a staggering 175 zettabytes by 2025. This explosion of data creation—fueled by advancements in edge computing, cloud services, IoT devices, and the digital transformation of industries—underscores the necessity of harnessing data science to navigate, understand, and utilize this deluge of information.\n",
    "\n",
    "#### **Data Science: A Compass in the Data Deluge**\n",
    "\n",
    "The exponential growth of the datasphere presents both opportunities and challenges. On one hand, data science provides the tools and methodologies to extract actionable insights from massive datasets. On the other hand, organizations that fail to implement robust data strategies risk being overwhelmed by the scale, complexity, and velocity of data generation.\n",
    "\n",
    "Key areas where data science plays a pivotal role include:\n",
    "\n",
    "1. **Driving Innovation Across Industries**\n",
    "    Data is the cornerstone of innovation in industries like manufacturing, healthcare, financial services, and entertainment. The Data Readiness Condition (DATCON) index underscores how data-readiness can accelerate growth, foster competitiveness, and streamline operations.\n",
    "\n",
    "    - Manufacturing: Predictive analytics powered by data science helps manufacturers anticipate machine failures, optimize supply chains, and improve production efficiency. For example, real-time monitoring of IoT-enabled factory equipment ensures proactive maintenance, reducing downtime and costs.\n",
    "    \n",
    "    - Healthcare: The medical field has benefited immensely from data science through advancements in precision medicine, disease diagnosis, and patient care. Machine learning models can predict disease outbreaks, identify at-risk patients, and personalize treatment plans based on genetic data.\n",
    "    \n",
    "    - Financial Services: Fraud detection, credit risk assessment, and personalized financial products are now driven by data science. Algorithms analyze transaction patterns in real-time to identify anomalies, providing enhanced security and customer trust.\n",
    "\n",
    "\n",
    "2. **Maximizing Edge Computing Potential**\n",
    "    Data creation at the edge is growing nearly twice as fast as in centralized systems like the cloud. Edge devices generate vast amounts of data that must be processed and analyzed in near real-time.\n",
    "\n",
    "    - Real-time Processing: Data science models deployed at the edge process data instantaneously, reducing the latency that occurs when data is sent to and from the cloud. This is critical for applications such as autonomous vehicles, where split-second decisions are essential for safety.\n",
    "    \n",
    "    - Resource Optimization: Edge computing often operates in resource-constrained environments, such as smart devices or remote locations. Data science ensures these models are lightweight yet powerful, maximizing efficiency while conserving computational resources.\n",
    "    \n",
    "    - Enhanced Security: By processing data locally, edge computing minimizes the need for data transfer, reducing vulnerabilities to cyberattacks. Data science algorithms can further enhance security by detecting anomalies and potential threats directly at the edge.\n",
    "\n",
    "3. **Addressing the Challenges of Data Explosion**\n",
    "   The rapid growth of the datasphere has introduced a host of challenges, from storage demands to ensuring data quality. Data science provides solutions to navigate these complexities.\n",
    "\n",
    "    - Efficient Data Management: Advanced techniques such as data deduplication, compression, and optimization help manage the increasing volume of data without overwhelming storage systems. Data science also supports the categorization and tagging of data, making it easier to retrieve and analyze.\n",
    "    \n",
    "    - Data Quality Assurance: The value of data is directly tied to its quality. Data science methodologies such as anomaly detection, imputation of missing values, and noise reduction ensure that datasets are reliable and accurate.\n",
    "    \n",
    "    - Unlocking Value: Beyond storage and management, the real potential lies in extracting actionable insights. Predictive analytics identifies future trends, while prescriptive analytics offers actionable recommendations. For example, retailers can use sales data to forecast inventory needs, preventing overstock or shortages.\n",
    "\n",
    "#### **The Urgency of Data Literacy and Readiness**\n",
    "\n",
    "With the datasphere expected to grow by over five times within a decade, it is imperative for organizations and individuals to cultivate data literacy. Data science is not just a technical field—it is a critical enabler for decision-making, policy formulation, and strategic planning. Furthermore, initiatives like the DATCON index emphasize the importance of data readiness, ensuring that organizations are equipped to manage, utilize, and monetize their data effectively."
   ]
  },
  {
   "cell_type": "markdown",
   "id": "3f7e1f55-e9f9-446f-a6d6-cf8cae635783",
   "metadata": {},
   "source": [
    "### **The Rising Demand for Data Scientists**"
   ]
  },
  {
   "cell_type": "markdown",
   "id": "9e0da7ac-35b1-4790-aa3c-c01c79e38383",
   "metadata": {
    "jp-MarkdownHeadingCollapsed": true
   },
   "source": [
    "<center><img src=\"https://miro.medium.com/v2/resize:fit:1400/format:webp/1*7IMev5xslc9FLxr9hHhpFw.png\" width=\"500px\"></center>\n",
    "\n",
    "Data science jobs have witnessed explosive growth in recent years, and this trend shows no signs of slowing down. The primary reason behind this surge in demand is the massive amount of data generated by individuals, businesses, and governments. Organizations now realize that this data is a goldmine of insights waiting to be uncovered, leading to data science's growing importance in decision-making.\n",
    "\n",
    "With the proliferation of data comes the need for professionals who can navigate and extract valuable insights from it. Data scientists are tasked with collecting, processing, and analyzing data to inform critical business decisions, and as a result, they are in high demand across various sectors.\n",
    "\n",
    "**The Evolving Landscape of Data Science Jobs**\n",
    "\n",
    "Data science jobs are no longer limited to a single job title or role. They've evolved into a spectrum of positions, each with its unique focus and responsibilities. Here are some of the prominent data science job titles you might encounter:\n",
    "\n",
    "1. **Data Scientist**: These professionals are the backbone of data science, responsible for collecting, cleaning, and analyzing data to provide actionable insights.\n",
    "2. **Machine Learning Engineer**: Machine learning engineers focus on building and deploying machine learning models, often working closely with data scientists to put their insights into practice.\n",
    "3. **Data Analyst**: Data analysts concentrate on data visualization, reporting, and interpretation to help organizations make informed decisions.\n",
    "4. **Data Engineer**: Data engineers build and maintain the infrastructure necessary for data collection and storage, ensuring data scientists have access to high-quality data.\n",
    "5. **Business Intelligence Analyst**: BI analysts use data to create dashboards and reports that help businesses track performance and make informed decisions.\n",
    "6. **AI Ethicist**: As the ethical implications of AI and data use become more apparent, AI ethicists focus on ensuring that data science is conducted responsibly and ethically."
   ]
  },
  {
   "cell_type": "markdown",
   "id": "6ce5bbb2-d76c-45b9-9434-f12dc147a1a1",
   "metadata": {},
   "source": [
    "### **Activity (Individual)**"
   ]
  },
  {
   "cell_type": "markdown",
   "id": "1d7a1f8d-c22b-423a-9e35-a25716e89a3b",
   "metadata": {
    "jp-MarkdownHeadingCollapsed": true
   },
   "source": [
    "\n",
    "Write a 200–300 word reflection answering the following:\n",
    "\n",
    "1. What is your first impression of data science?\n",
    "2. How is data science involved in your daily activities? Provide specific examples.\n",
    "3. Why do you think data science is important?\n",
    "4. Be creative with your reflection title."
   ]
  },
  {
   "cell_type": "markdown",
   "id": "7ae65a24-d588-4e64-b7e4-92b20d76a4b2",
   "metadata": {
    "jp-MarkdownHeadingCollapsed": true
   },
   "source": [
    "### **References**\n",
    "\n",
    "- https://en.wikipedia.org/wiki/Data_science#\n",
    "- https://www.linkedin.com/pulse/evolving-landscape-data-science-jobs-school-of-core-ai-ddmxf/\n",
    "- https://medium.com/hackernoon/the-ai-hierarchy-of-needs-18f111fcc007\n",
    "- http://www.kdnuggets.com/2016/10/battle-data-science-venn-diagrams.html \n",
    "- https://thomaselove.github.io/431notes-2017/data-science.html#why-a-unicorn\n",
    "- https://www.i-scoop.eu/big-data-action-value-context/data-age-2025-datasphere/"
   ]
  }
 ],
 "metadata": {
  "kernelspec": {
   "display_name": "Python 3 (ipykernel)",
   "language": "python",
   "name": "python3"
  },
  "language_info": {
   "codemirror_mode": {
    "name": "ipython",
    "version": 3
   },
   "file_extension": ".py",
   "mimetype": "text/x-python",
   "name": "python",
   "nbconvert_exporter": "python",
   "pygments_lexer": "ipython3",
   "version": "3.11.9"
  },
  "widgets": {
   "application/vnd.jupyter.widget-state+json": {
    "state": {},
    "version_major": 2,
    "version_minor": 0
   }
  }
 },
 "nbformat": 4,
 "nbformat_minor": 5
}
