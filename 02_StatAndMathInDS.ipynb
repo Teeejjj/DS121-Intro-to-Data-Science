{
 "cells": [
  {
   "cell_type": "markdown",
   "id": "f129fd0b-e777-4b6f-96a7-9011c30b58c9",
   "metadata": {},
   "source": [
    "# Statistics and Mathematics in Data Science\n",
    "\n",
    "**Prepared by:** Timothy Jonah E. Borromeo<br>\n",
    "<b><u><i>Introduction to Data Science</b></u></i><br><br>"
   ]
  },
  {
   "cell_type": "markdown",
   "id": "8e3dbfac-a164-4292-bc5b-af10696502d2",
   "metadata": {},
   "source": [
    "## Vital Role of Statistics and Mathematics in Data Science\n",
    "\n",
    "Data Science is a multifaceted discipline, encompassing aspects of statistics, computer science, and domain knowledge. Statistics and Mathematics serve as the foundational pillars of Data Science, providing a rigorous framework for making sense of data, ensuring that insights are derived systematically and accurately. <br>\n",
    "\n",
    "They enable data scientists to quantify uncertainty and variability through `probabilty theory` and `statistical ineference`, allowing for rigorus `hypothesis testing` and robust model building. Mathematical principles such as `calculus` and `linear algebra` are essential for developing `optimization` algorithms and understanding the inner workings of `machine learning` models. Moreover, `descriptive` and `inferential statistics` facilitate data summarization, visualization, and the reduction of complex, high-dimensional data into more manageable forms."
   ]
  },
  {
   "cell_type": "markdown",
   "id": "44a15fbf-4681-4534-bd15-323376a881b2",
   "metadata": {},
   "source": [
    "## What types of <i>math</i> do Data Scientists need to know?"
   ]
  },
  {
   "cell_type": "markdown",
   "id": "8261412c-448f-4a00-9ecf-734f263374ab",
   "metadata": {},
   "source": [
    "Data Scientists utilize mathematics to:\n",
    "- Understand and use Machine Learning algorithms\n",
    "- Analyze datasets from various sources\n",
    "- Identify patterns in data\n",
    "- Forecast trends and growth\n",
    "\n",
    "> Data Scientists utilizes mathematical fucnctions to perform <u>data analysis</u> and apply <u>machine learning</u> like clustering, regression, and classification."
   ]
  },
  {
   "cell_type": "markdown",
   "id": "79a3af3a-29ff-4f08-aecb-bfa472c1a15a",
   "metadata": {},
   "source": [
    "<!-- Data Scientists use three main types of maths — <b><u>Linear Algebra, Calculus, and Statistics</u></b> -->\n",
    "## Key Concepts"
   ]
  },
  {
   "cell_type": "markdown",
   "id": "59587f89-fe6b-4152-8c58-10aaca81c047",
   "metadata": {},
   "source": [
    "### Core Statistical Foundations\n",
    "- **Descriptive Statistics**\n",
    "  * Descriptive statistics summarize and describe the main features of a dataset. They provide a \"snapshot\" of the data’s distribution, central tendency, and variability.\n",
    "    - > **Measures of Central Tendency:**<br>\n",
    "        Mean: Average value. Sensitive to outliers.<br>\n",
    "        Median: Middle value when data is ordered. Robust to outliers.<br>\n",
    "        Mode: Most frequent value. Useful for categorical data\n",
    "      \n",
    "- **Inferential Statistics**\n",
    "  * Inferential statistics generalize conclusions from a sample to a population, quantifying uncertainty through probability.\n",
    "    - > Central Limit Theorem (CLT)<br>\n",
    "      > Confidence Intervals<br>\n",
    "      > Hypothesis Testing\n",
    "- **Regression Analysis**\n",
    "  * Regression models relationships between a dependent variable (y) and one or more independent variables (X).\n",
    "    - > *Linear Regression*<br>\n",
    "      > *Logistic Regression*<br>\n",
    "      > *Regularization*\n",
    "- **Bayesian Statistics**\n",
    "  * Bayesian statistics updates beliefs (probabilities) as new evidence is observed, using Bayes’ theorem.\n",
    "    - > *Prior Distribution*: Initial belief about a parameter (e.g., \"30% of emails are spam\").<br>\n",
    "*Likelihood*: Probability of observing the data given the parameter (\n",
    "P\n",
    "(\n",
    "data\n",
    "∣\n",
    "θ\n",
    ")\n",
    "P(data∣θ)).<br>\n",
    "*Posterior Distribution*: Updated belief after observing data (\n",
    "P\n",
    "(\n",
    "θ\n",
    "∣\n",
    "data\n",
    ")\n",
    "P(θ∣data))<br>\n",
    "*Markov Chain Monte Carlo (MCMC)*: Computational method to approximate complex posteriors.\n",
    "- **Time Series Analysis**\n",
    "  * Time series analysis models data points collected sequentially over time.\n",
    "    - > *Trend*: Long-term upward/downward movement (e.g., rising global temperatures).<br>\n",
    "        *Seasonality*: Regular patterns (e.g., holiday sales spikes).<br>\n",
    "        *Stationarity*: Mean and variance constant over time (required for ARIMA models).<br>\n",
    "        *Autocorrelation*: Correlation of a series with its lagged values.\n"
   ]
  },
  {
   "cell_type": "markdown",
   "id": "767b85f2-dcf5-46d0-9eef-db8848cc8965",
   "metadata": {},
   "source": [
    "### Core Mathematical Foundations\n",
    "- **Probabilty**\n",
    "  * Probabilty quantifies uncertainty by modeling the likelihood of events or outcomes. It provides the language to describe randomness of data.\n",
    "    - > Distributions (normal, binomial, Poisson), Bayes’ theorem, random variables, expectation, variance, covariance. \n",
    "- **Linear Algebra**\n",
    "  * Linear algebra deals with vectors, matrices, and linear transformations. It underpins how data is structured and manipulated computationally.\n",
    "    - > Vectors, matrices, eigenvalues, eigenvectors, matrix factorization (SVD, PCA).\n",
    "- **Calculus**\n",
    "  * Calculus studies rates of change (derivatives) and accumulation (integrals). It is essential for optimizing models and understanding how variables interact.\n",
    "    - >  Derivatives, integrals, gradients, optimization (e.g., gradient descent).\n",
    "- **Discrete Mathematics**\n",
    "  * Discrete math deals with countable, non-continuous structures. It is foundational for algorithm design and combinatorial analysis.\n",
    "    - > Graph theory, combinatorics, logic."
   ]
  },
  {
   "cell_type": "markdown",
   "id": "971ca7d3-8e60-4c9c-a45e-7159dedd7d7a",
   "metadata": {},
   "source": [
    "# Machine Learning Fundamentals\n",
    "\n",
    "Machine Learning lies at the core of AI, enabling systems to learn from given data and improving predictive and classification perfomances over time. By building a strong foundation in mathematics and statistics, you can gain a deeper understanding of data science and machine learning.\n",
    "\n",
    "## How they work together\n",
    "\n",
    "Mathematics provides the language and tools for representing and manipulating data, while statistics provides the methods for analyzing and interpreting that data. In machine learning, these two areas are combined to build models that can learn from data and make predictions."
   ]
  },
  {
   "cell_type": "markdown",
   "id": "de978b33-84ac-4c75-beaf-a30d25297400",
   "metadata": {},
   "source": [
    "# Activity (Individual)\n",
    "\n",
    "???"
   ]
  },
  {
   "cell_type": "markdown",
   "id": "a59a17fe-8521-4083-9920-0f1552936f21",
   "metadata": {},
   "source": [
    "# References\n",
    "\n",
    "[Mathematics and Data Science: Its Role and Relevance - pickl.ai](https://www.pickl.ai/blog/mathematics-and-data-science-its-role-and-relevance/)<br>\n",
    "[The Vital Role of Statistics and Mathematics in Data Science and AI Engineering](https://www.linkedin.com/pulse/vital-role-statistics-mathematics-data-science-ai-abdul-qadir-4swzc/)<br>\n",
    "[How much math is involved in Data Science?](https://www.multiverse.io/en-GB/blog/how-much-math-data-science)<br>\n",
    "[Introduction to Mathematics and Statistics for Data Science and machine learning - medium.com](https://medium.com/@avikumart_/introduction-to-mathematics-and-statistics-for-data-science-and-machine-learning-2560403baf31)"
   ]
  },
  {
   "cell_type": "code",
   "execution_count": null,
   "id": "705e8935-50ed-40d7-bfe8-36379e382974",
   "metadata": {},
   "outputs": [],
   "source": []
  }
 ],
 "metadata": {
  "kernelspec": {
   "display_name": "Python 3 (ipykernel)",
   "language": "python",
   "name": "python3"
  },
  "language_info": {
   "codemirror_mode": {
    "name": "ipython",
    "version": 3
   },
   "file_extension": ".py",
   "mimetype": "text/x-python",
   "name": "python",
   "nbconvert_exporter": "python",
   "pygments_lexer": "ipython3",
   "version": "3.11.9"
  },
  "widgets": {
   "application/vnd.jupyter.widget-state+json": {
    "state": {},
    "version_major": 2,
    "version_minor": 0
   }
  }
 },
 "nbformat": 4,
 "nbformat_minor": 5
}
